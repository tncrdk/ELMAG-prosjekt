{
 "cells": [
  {
   "attachments": {},
   "cell_type": "markdown",
   "metadata": {},
   "source": [
    "# Analyse"
   ]
  },
  {
   "cell_type": "code",
   "execution_count": 1,
   "metadata": {},
   "outputs": [],
   "source": [
    "import numpy as np\n",
    "from importlib import reload"
   ]
  },
  {
   "attachments": {},
   "cell_type": "markdown",
   "metadata": {},
   "source": [
    "## Plotter alle rådataene til magnetfeltet"
   ]
  },
  {
   "cell_type": "code",
   "execution_count": null,
   "metadata": {},
   "outputs": [],
   "source": [
    "import load_data\n",
    "import plot_data\n",
    "reload(load_data)\n",
    "reload(plot_data)\n",
    "\n",
    "mag_data_obj = load_data.load_magnetic_field_data()\n",
    "for person, measurements in mag_data_obj.data.items():\n",
    "    for name, measurement in measurements.items():\n",
    "        plot_data.plot_one_to_many(\n",
    "            x_array = measurement.data[0],\n",
    "            y_arrays = [*measurement.data[1:]],\n",
    "            legends = mag_data_obj.data_fields[1:],\n",
    "            xlabel=\"time [s]\",\n",
    "            ylabel=r\"Magnetic field $[\\mu T]$\",\n",
    "            title=f\"{name}\",\n",
    "            filepath=f\"{person}/Magnetfelt/{name}\"\n",
    "        )"
   ]
  },
  {
   "attachments": {},
   "cell_type": "markdown",
   "metadata": {},
   "source": [
    "## Plotte vinkel mellom magnetfelt og referanse"
   ]
  },
  {
   "cell_type": "code",
   "execution_count": null,
   "metadata": {},
   "outputs": [],
   "source": [
    "import load_data\n",
    "import plot_data\n",
    "import magnetic_field_analysis as m_analysis\n",
    "reload(plot_data)\n",
    "reload(m_analysis)\n",
    "reload(load_data)\n",
    "from load_data import MEASUREMENTS\n",
    "\n",
    "\n",
    "for measurement in MEASUREMENTS:\n",
    "    angles_dict = m_analysis.get_magnetic_field_reference_angles_dict(measurement)\n",
    "    for person, angles_array in angles_dict.items():\n",
    "        plot_data.plot_one_to_one(\n",
    "            x_array=angles_array[0],\n",
    "            y_array=angles_array[1],\n",
    "            legend=f\"{person}-{measurement}-vinkel\",\n",
    "            xlabel=\"time [s]\",\n",
    "            ylabel=r\"$\\theta$ [deg]\",\n",
    "            title=f\"{person}-{measurement}-vinkel\",\n",
    "            filepath=f\"{person}/Vinkel/{measurement}\"\n",
    "        )"
   ]
  },
  {
   "attachments": {},
   "cell_type": "markdown",
   "metadata": {},
   "source": [
    "## Plotte inklinasjon"
   ]
  },
  {
   "cell_type": "code",
   "execution_count": null,
   "metadata": {},
   "outputs": [],
   "source": [
    "import load_data\n",
    "import plot_data\n",
    "import magnetic_field_analysis as m_analysis\n",
    "reload(plot_data)\n",
    "reload(m_analysis)\n",
    "reload(load_data)\n",
    "\n",
    "\n",
    "for measurement in load_data.MEASUREMENTS:\n",
    "    inclination_dict = m_analysis.get_inclination_dict(measurement)\n",
    "    for person, inclination_angles in inclination_dict.items():\n",
    "        plot_data.plot_one_to_one(\n",
    "            x_array=inclination_angles[0],\n",
    "            y_array=inclination_angles[1],\n",
    "            legend=f\"{person}-{measurement}-vinkel\",\n",
    "            xlabel=\"time [s]\",\n",
    "            ylabel=r\"$\\theta$ [deg]\",\n",
    "            title=f\"{person}-{measurement}-vinkel\",\n",
    "            filepath=f\"{person}/Inclination/{measurement}\"\n",
    "        )"
   ]
  },
  {
   "attachments": {},
   "cell_type": "markdown",
   "metadata": {},
   "source": [
    "## Regne ut inklinasjon"
   ]
  },
  {
   "cell_type": "code",
   "execution_count": null,
   "metadata": {},
   "outputs": [],
   "source": [
    "import load_data\n",
    "import magnetic_field_analysis as m_analysis\n",
    "reload(m_analysis)\n",
    "reload(load_data)\n",
    "\n",
    "\n",
    "for measurement in load_data.MEASUREMENTS:\n",
    "    inclination_dict = m_analysis.get_inclination_dict(measurement)\n",
    "    m_analysis.analyze_results(inclination_dict, \"Inclination\", measurement)"
   ]
  },
  {
   "attachments": {},
   "cell_type": "markdown",
   "metadata": {},
   "source": [
    "### Regne ut vinkel mellom nord og Nidarosdomen/Tyholttårnet"
   ]
  },
  {
   "cell_type": "code",
   "execution_count": 6,
   "metadata": {},
   "outputs": [
    {
     "name": "stdout",
     "output_type": "stream",
     "text": [
      "Oskar_location.toml\n",
      "nidaros :  25.144751089949736\n",
      "tyholt :  -80.04972730795282\n",
      "Thorb_location.toml\n",
      "nidaros :  25.48634005982061\n",
      "tyholt :  -80.07251945486865\n",
      "Vemund_location.toml\n",
      "nidaros :  25.50723916687726\n",
      "tyholt :  -80.0619871402883\n"
     ]
    }
   ],
   "source": [
    "import location\n",
    "reload(location)\n",
    "\n",
    "angle_dict = location.calculate_angle_north()\n",
    "for key, value in angle_dict.items():\n",
    "    print(key)\n",
    "    for k, v in value.items():\n",
    "        print(k, \": \", v)"
   ]
  },
  {
   "attachments": {},
   "cell_type": "markdown",
   "metadata": {},
   "source": [
    "## Regne ut posisjon"
   ]
  },
  {
   "cell_type": "code",
   "execution_count": null,
   "metadata": {},
   "outputs": [],
   "source": [
    "import location\n",
    "import load_data\n",
    "reload(location)\n",
    "reload(load_data)\n",
    "\n",
    "for person in load_data.PERSONS:\n",
    "    location.get_location(person)"
   ]
  },
  {
   "cell_type": "code",
   "execution_count": null,
   "metadata": {},
   "outputs": [],
   "source": [
    "import load_data\n",
    "import plot_data\n",
    "reload(load_data)\n",
    "reload(plot_data)\n",
    "\n",
    "loc_data_obj = load_data.load_location_data()\n",
    "for person, measurement in loc_data_obj.data.items():\n",
    "\n",
    "    \n",
    "    plot_data.plot_one_to_one(\n",
    "        x_array = measurement.data[0],\n",
    "        y_array = measurement.data[1],\n",
    "        legend = loc_data_obj.data_fields[1],\n",
    "        xlabel=\"time [s]\",\n",
    "        ylabel=r\"Latitude\",\n",
    "        title=f\"{person}\",\n",
    "        # filepath=f\"{person}/{name}\"\n",
    "    )\n",
    "    plot_data.plot_one_to_one(\n",
    "        x_array = measurement.data[0],\n",
    "        y_array = measurement.data[2],\n",
    "        legend = loc_data_obj.data_fields[2],\n",
    "        xlabel=\"time [s]\",\n",
    "        ylabel=r\"Latitude\",\n",
    "        title=f\"{person}\",\n",
    "        # filepath=f\"{person}/{name}\"\n",
    "    )"
   ]
  }
 ],
 "metadata": {
  "kernelspec": {
   "display_name": "scientific-venv",
   "language": "python",
   "name": "python3"
  },
  "language_info": {
   "codemirror_mode": {
    "name": "ipython",
    "version": 3
   },
   "file_extension": ".py",
   "mimetype": "text/x-python",
   "name": "python",
   "nbconvert_exporter": "python",
   "pygments_lexer": "ipython3",
   "version": "3.11.3"
  },
  "orig_nbformat": 4,
  "vscode": {
   "interpreter": {
    "hash": "e4f210080ac5f4a6cc2115fed17dd312d2fd73f6666689d56c969c540f3ec61a"
   }
  }
 },
 "nbformat": 4,
 "nbformat_minor": 2
}
