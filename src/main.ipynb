{
 "cells": [
  {
   "attachments": {},
   "cell_type": "markdown",
   "metadata": {},
   "source": [
    "# Analyse"
   ]
  },
  {
   "cell_type": "code",
   "execution_count": null,
   "metadata": {},
   "outputs": [],
   "source": [
    "import numpy as np\n",
    "from importlib import reload"
   ]
  },
  {
   "attachments": {},
   "cell_type": "markdown",
   "metadata": {},
   "source": [
    "## Plotter alle rådataene til magnetfeltet"
   ]
  },
  {
   "cell_type": "code",
   "execution_count": null,
   "metadata": {},
   "outputs": [],
   "source": [
    "import load_data\n",
    "import plot_data\n",
    "reload(load_data)\n",
    "reload(plot_data)\n",
    "\n",
    "mag_data_obj = load_data.load_magnetic_field_data()\n",
    "for person, measurements in mag_data_obj.data.items():\n",
    "    for name, measurement in measurements.items():\n",
    "        plot_data.plot_one_to_many(\n",
    "            x_array = measurement.data[0],\n",
    "            y_arrays = [*measurement.data[1:]],\n",
    "            legends = mag_data_obj.data_fields[1:],\n",
    "            xlabel=\"time [s]\",\n",
    "            ylabel=r\"Magnetic field $[\\mu T]$\",\n",
    "            title=f\"{name}\",\n",
    "            filepath=f\"{person}/Magnetfelt/{name}\"\n",
    "        )"
   ]
  },
  {
   "attachments": {},
   "cell_type": "markdown",
   "metadata": {},
   "source": [
    "## Plotte vinkel mellom magnetfelt og referanse"
   ]
  },
  {
   "cell_type": "code",
   "execution_count": null,
   "metadata": {},
   "outputs": [],
   "source": [
    "import load_data\n",
    "import plot_data\n",
    "import magnetic_field_analysis as m_analysis\n",
    "reload(plot_data)\n",
    "reload(m_analysis)\n",
    "reload(load_data)\n",
    "from load_data import MEASUREMENTS\n",
    "\n",
    "\n",
    "for measurement in MEASUREMENTS:\n",
    "    angles_dict = m_analysis.get_magnetic_field_reference_angles_dict(measurement)\n",
    "    for person, angles_array in angles_dict.items():\n",
    "        plot_data.plot_one_to_one(\n",
    "            x_array=angles_array[0],\n",
    "            y_array=angles_array[1],\n",
    "            legend=f\"{person}-{measurement}-vinkel\",\n",
    "            xlabel=\"time [s]\",\n",
    "            ylabel=r\"$\\theta$ [deg]\",\n",
    "            title=f\"{person}-{measurement}-vinkel\",\n",
    "            filepath=f\"{person}/Vinkel/{measurement}\"\n",
    "        )"
   ]
  },
  {
   "attachments": {},
   "cell_type": "markdown",
   "metadata": {},
   "source": [
    "## Plotte inklinasjon"
   ]
  },
  {
   "cell_type": "code",
   "execution_count": null,
   "metadata": {},
   "outputs": [],
   "source": [
    "import load_data\n",
    "import plot_data\n",
    "import magnetic_field_analysis as m_analysis\n",
    "reload(plot_data)\n",
    "reload(m_analysis)\n",
    "reload(load_data)\n",
    "\n",
    "\n",
    "for measurement in load_data.MEASUREMENTS:\n",
    "    inclination_dict = m_analysis.get_inclination_dict(measurement)\n",
    "    for person, inclination_angles in inclination_dict.items():\n",
    "        plot_data.plot_one_to_one(\n",
    "            x_array=inclination_angles[0],\n",
    "            y_array=inclination_angles[1],\n",
    "            legend=f\"{person}-{measurement}-vinkel\",\n",
    "            xlabel=\"time [s]\",\n",
    "            ylabel=r\"$\\theta$ [deg]\",\n",
    "            title=f\"{person}-{measurement}-vinkel\",\n",
    "            filepath=f\"{person}/Inclination/{measurement}\"\n",
    "        )"
   ]
  },
  {
   "attachments": {},
   "cell_type": "markdown",
   "metadata": {},
   "source": [
    "## Regne ut inklinasjon"
   ]
  },
  {
   "cell_type": "code",
   "execution_count": null,
   "metadata": {},
   "outputs": [],
   "source": [
    "import load_data\n",
    "import magnetic_field_analysis as m_analysis\n",
    "reload(m_analysis)\n",
    "reload(load_data)\n",
    "\n",
    "\n",
    "for measurement in load_data.MEASUREMENTS:\n",
    "    inclination_dict = m_analysis.get_inclination_dict(measurement)\n",
    "    m_analysis.analyze_results(inclination_dict, \"Inclination\", measurement)"
   ]
  },
  {
   "attachments": {},
   "cell_type": "markdown",
   "metadata": {},
   "source": [
    "### Regne ut vinkel mellom nord og Nidarosdomen/Tyholttårnet"
   ]
  },
  {
   "attachments": {},
   "cell_type": "markdown",
   "metadata": {},
   "source": [
    "I følge Google Maps:\n",
    "\n",
    "Koordinater tyholt: 63.422364810418905, 10.431957717382154\n",
    "\n",
    "Koordinater Nidarosdomen: 63.42690834516923, 10.396940527455543\n",
    "\n",
    "\n",
    "Koordinater målested (må sjekkes med målingene): 63.42016082533134, 10.404048501911404\n",
    "#### WGS 84\n",
    "\n",
    " - semi-major axis: 6378137.0 m\n",
    " - semi-minor axis: 6356752.314245 m\n",
    "\n",
    "https://en.wikipedia.org/wiki/World_Geodetic_System#WGS_84\n",
    "\n",
    " Konvertere til geosentrisk radius for en gitt latitude:\n",
    " $$R(\\varphi )={\\sqrt {\\frac {(a^{2}\\cos \\varphi )^{2}+(b^{2}\\sin \\varphi )^{2}}{(a\\cos \\varphi )^{2}+(b\\sin \\varphi )^{2}}}}$$\n",
    " https://en.wikipedia.org/wiki/Earth_radius\n",
    "\n",
    "Avstand mellom målepunktets høydegrad $\\varphi_P$ og referansepunkt høydegrad $\\varphi_{ref}$\n",
    "$$d_\\varphi(\\varphi_P, \\varphi_{ref}) = R(\\varphi)(\\varphi_P - \\varphi_{ref})$$\n",
    "\n",
    "Avstand mellom målepunktets breddegrad $\\theta_P$ og referansepunkt breddegrad $\\theta_{ref}$\n",
    "$$d_\\theta(\\theta_P, \\theta_{ref}) = |R(\\varphi)(\\theta_P - \\theta_{ref})|$$\n",
    "\n",
    "Vinkel mellom linje fra målepunkt til ref. punkt og nord:\n",
    "$$\n",
    "\\alpha = tan^{-1}(d_\\theta/d_\\varphi)\n",
    "$$"
   ]
  },
  {
   "cell_type": "code",
   "execution_count": null,
   "metadata": {},
   "outputs": [],
   "source": [
    "import location\n",
    "reload(location)\n",
    "\n",
    "# Punkter. coord_3 og coord_4 er hjørner i rettvinklet trekant.\n",
    "# lage figur?\n",
    "coord_nidaros = (63.42690834516923, 10.396940527455543)\n",
    "coord_tyholt = (63.422364810418905, 10.431957717382154)\n",
    "coord_maalepunkt = (63.42016082533134, 10.404048501911404)\n",
    "coord_3 = (coord_nidaros[0], coord_maalepunkt[1])\n",
    "coord_4 = (coord_tyholt[0], coord_maalepunkt[1])\n",
    "\n",
    "d1 = location.distance_geopy(coord_3, coord_maalepunkt)\n",
    "d2 = location.distance_geopy(coord_3, coord_nidaros)\n",
    "\n",
    "angle_nidaros = np.degrees(location.angle_north(d1,d2))\n",
    "\n",
    "d3 = location.distance_geopy(coord_4, coord_maalepunkt)\n",
    "d4 = location.distance_geopy(coord_4, coord_tyholt)\n",
    "\n",
    "angle_tyholt = np.degrees(location.angle_north(d3, d4))\n",
    "\n",
    "print(f'{angle_nidaros=:.2f} deg')\n",
    "print(f'{angle_tyholt=:.2f} deg')\n"
   ]
  },
  {
   "attachments": {},
   "cell_type": "markdown",
   "metadata": {},
   "source": [
    "## Regne ut posisjon"
   ]
  },
  {
   "cell_type": "code",
   "execution_count": null,
   "metadata": {},
   "outputs": [],
   "source": [
    "import location\n",
    "import load_data\n",
    "reload(location)\n",
    "reload(load_data)\n",
    "\n",
    "for person in load_data.PERSONS:\n",
    "    location.get_location(person)"
   ]
  },
  {
   "cell_type": "code",
   "execution_count": null,
   "metadata": {},
   "outputs": [],
   "source": [
    "import load_data\n",
    "import plot_data\n",
    "reload(load_data)\n",
    "reload(plot_data)\n",
    "\n",
    "loc_data_obj = load_data.load_location_data()\n",
    "for person, measurement in loc_data_obj.data.items():\n",
    "\n",
    "    \n",
    "    plot_data.plot_one_to_one(\n",
    "        x_array = measurement.data[0],\n",
    "        y_array = measurement.data[1],\n",
    "        legend = loc_data_obj.data_fields[1],\n",
    "        xlabel=\"time [s]\",\n",
    "        ylabel=r\"Latitude\",\n",
    "        title=f\"{person}\",\n",
    "        # filepath=f\"{person}/{name}\"\n",
    "    )\n",
    "    plot_data.plot_one_to_one(\n",
    "        x_array = measurement.data[0],\n",
    "        y_array = measurement.data[2],\n",
    "        legend = loc_data_obj.data_fields[2],\n",
    "        xlabel=\"time [s]\",\n",
    "        ylabel=r\"Latitude\",\n",
    "        title=f\"{person}\",\n",
    "        # filepath=f\"{person}/{name}\"\n",
    "    )"
   ]
  }
 ],
 "metadata": {
  "kernelspec": {
   "display_name": "scientific-venv",
   "language": "python",
   "name": "python3"
  },
  "language_info": {
   "codemirror_mode": {
    "name": "ipython",
    "version": 3
   },
   "file_extension": ".py",
   "mimetype": "text/x-python",
   "name": "python",
   "nbconvert_exporter": "python",
   "pygments_lexer": "ipython3",
   "version": "3.11.1"
  },
  "orig_nbformat": 4,
  "vscode": {
   "interpreter": {
    "hash": "e4f210080ac5f4a6cc2115fed17dd312d2fd73f6666689d56c969c540f3ec61a"
   }
  }
 },
 "nbformat": 4,
 "nbformat_minor": 2
}
