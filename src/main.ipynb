{
 "cells": [
  {
   "attachments": {},
   "cell_type": "markdown",
   "metadata": {},
   "source": [
    "# Analyse"
   ]
  },
  {
   "cell_type": "code",
   "execution_count": 1,
   "metadata": {},
   "outputs": [],
   "source": [
    "import numpy as np\n",
    "import matplotlib.pyplot as plt\n",
    "from pathlib import Path\n",
    "from importlib import reload"
   ]
  },
  {
   "attachments": {},
   "cell_type": "markdown",
   "metadata": {},
   "source": [
    "## Plotter alle rådataene til magnetfeltet"
   ]
  },
  {
   "cell_type": "code",
   "execution_count": null,
   "metadata": {},
   "outputs": [],
   "source": [
    "import load_data\n",
    "import plot_data\n",
    "reload(load_data)\n",
    "reload(plot_data)\n",
    "\n",
    "mag_data_obj = load_data.load_magnetic_field_data()\n",
    "for person, measurements in mag_data_obj.data.items():\n",
    "    for name, measurement in measurements.items():\n",
    "        plot_data.plot_one_to_many(\n",
    "            x_array = measurement[0],\n",
    "            y_arrays = [*measurement[1:]],\n",
    "            legends = mag_data_obj.data_fields[1:],\n",
    "            xlabel=\"time [s]\",\n",
    "            ylabel=r\"magnetic field [\\mu T]\",\n",
    "            title=f\"{name}\",\n",
    "            filepath=f\"{person}/{name}\"\n",
    "        )"
   ]
  }
 ],
 "metadata": {
  "kernelspec": {
   "display_name": "scientific-venv",
   "language": "python",
   "name": "python3"
  },
  "language_info": {
   "codemirror_mode": {
    "name": "ipython",
    "version": 3
   },
   "file_extension": ".py",
   "mimetype": "text/x-python",
   "name": "python",
   "nbconvert_exporter": "python",
   "pygments_lexer": "ipython3",
   "version": "3.11.1"
  },
  "orig_nbformat": 4
 },
 "nbformat": 4,
 "nbformat_minor": 2
}
