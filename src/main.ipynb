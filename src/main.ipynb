{
   "cells": [
      {
         "attachments": {},
         "cell_type": "markdown",
         "metadata": {},
         "source": [
            "# Analyse"
         ]
      },
      {
         "cell_type": "code",
         "execution_count": 1,
         "metadata": {},
         "outputs": [],
         "source": [
            "import numpy as np\n",
            "from importlib import reload"
         ]
      },
      {
         "attachments": {},
         "cell_type": "markdown",
         "metadata": {},
         "source": [
            "## Plotter alle rådataene til magnetfeltet"
         ]
      },
      {
         "cell_type": "code",
         "execution_count": 5,
         "metadata": {},
         "outputs": [
            {
               "name": "stdout",
               "output_type": "stream",
               "text": [
                  "[ -9.34036119   3.19752785 -49.40084109  50.37914865]\n",
                  "[ -3.17348342 -13.59449552 -48.70569801  50.66733864]\n",
                  "[ -2.78967159 -17.49965477 -49.3465637   52.4324632 ]\n",
                  "[ -9.72809414   1.41980821 -51.18475322  52.12625312]\n",
                  "[ -1.42276575 -19.4605292  -53.16674124  56.63546632]\n",
                  "[ -1.9349254  -19.48581905 -52.41969316  55.95862924]\n",
                  "[ -1.78682195 -19.10015578 -53.35697907  56.70279282]\n",
                  "[ -6.95258599  -2.99630246 -45.01025124  45.64491272]\n",
                  "[  0.06541049 -22.22819689 -47.41938188  52.37108826]\n",
                  "[  0.89495668 -23.21359001 -47.65443794  53.01570004]\n",
                  "[  0.62107355 -23.31389342 -47.8814582   53.25961451]\n"
               ]
            }
         ],
         "source": [
            "import load_data\n",
            "import plot_data\n",
            "reload(load_data)\n",
            "reload(plot_data)\n",
            "\n",
            "mag_data_obj = load_data.load_magnetic_field_data()\n",
            "for person, measurements in mag_data_obj.data.items():\n",
            "    for name, measurement in measurements.items():\n",
            "\n",
            "        # magnetfelt-plots bruker timestamps. Vi trenger ikke kalibreringen i starten.\n",
            "        timestamps = measurement.timestamps\n",
            "        start, end = load_data.get_index_stamps(measurement.data[0], (timestamps))\n",
            "\n",
            "        plot_data.plot_one_to_many(\n",
            "            x_array = measurement.data[0][start:end],\n",
            "            y_arrays = [ m[start:end] for m in measurement.data[1:6]],      # 1:3 plotter bare x- og y-komponenten til B-feltet.\n",
            "            legends = mag_data_obj.data_fields[1:6],                        # er ikke så nyttig å se abs(B) i plottet.\n",
            "            xlabel=\"time [s]\",\n",
            "            ylabel=r\"Magnetic field $[\\mu T]$\",\n",
            "            title=f\"{name}\",\n",
            "            filepath=f\"{person}/Magnetfelt/{name}\"\n",
            "        )\n",
            "        print(np.mean([m[start:end] for m in measurement.data[1:6]], 1))"
         ]
      },
      {
         "attachments": {},
         "cell_type": "markdown",
         "metadata": {},
         "source": [
            "## Plotte vinkel mellom magnetfelt og referanse"
         ]
      },
      {
         "cell_type": "code",
         "execution_count": 13,
         "metadata": {},
         "outputs": [],
         "source": [
            "import load_data\n",
            "import plot_data\n",
            "import magnetic_field_analysis as m_analysis\n",
            "reload(plot_data)\n",
            "reload(m_analysis)\n",
            "reload(load_data)\n",
            "from load_data import MEASUREMENTS\n",
            "\n",
            "\n",
            "for measurement in MEASUREMENTS:\n",
            "    angles_dict = m_analysis.get_magnetic_field_reference_angles_dict(measurement)\n",
            "    for person, angles_array in angles_dict.items():\n",
            "        plot_data.plot_one_to_one(\n",
            "            x_array=angles_array[0],\n",
            "            y_array=angles_array[1],\n",
            "            legend=f\"{person}-{measurement}-vinkel\",\n",
            "            xlabel=\"time [s]\",\n",
            "            ylabel=r\"$\\theta$ [deg]\",\n",
            "            title=f\"{person}-{measurement}-vinkel\",\n",
            "            filepath=f\"{person}/Vinkel/{measurement}\"\n",
            "        )"
         ]
      },
      {
         "attachments": {},
         "cell_type": "markdown",
         "metadata": {},
         "source": [
            "## Plotte inklinasjon"
         ]
      },
      {
         "cell_type": "code",
         "execution_count": 14,
         "metadata": {},
         "outputs": [],
         "source": [
            "import load_data\n",
            "import plot_data\n",
            "import magnetic_field_analysis as m_analysis\n",
            "reload(plot_data)\n",
            "reload(m_analysis)\n",
            "reload(load_data)\n",
            "\n",
            "\n",
            "for measurement in load_data.MEASUREMENTS:\n",
            "    inclination_dict = m_analysis.get_inclination_dict(measurement)\n",
            "    for person, inclination_angles in inclination_dict.items():\n",
            "        plot_data.plot_one_to_one(\n",
            "            x_array=inclination_angles[0],\n",
            "            y_array=inclination_angles[1],\n",
            "            legend=f\"{person}-{measurement}-vinkel\",\n",
            "            xlabel=\"time [s]\",\n",
            "            ylabel=r\"$\\theta$ [deg]\",\n",
            "            title=f\"{person}-{measurement}-vinkel\",\n",
            "            filepath=f\"{person}/Inclination/{measurement}\"\n",
            "        )"
         ]
      },
      {
         "attachments": {},
         "cell_type": "markdown",
         "metadata": {},
         "source": [
            "## Regne ut inklinasjon"
         ]
      },
      {
         "cell_type": "code",
         "execution_count": 3,
         "metadata": {},
         "outputs": [],
         "source": [
            "import load_data\n",
            "import magnetic_field_analysis as m_analysis\n",
            "reload(m_analysis)\n",
            "reload(load_data)\n",
            "\n",
            "\n",
            "for measurement in load_data.MEASUREMENTS:\n",
            "    inclination_dict = m_analysis.get_inclination_dict(measurement)\n",
            "    m_analysis.analyze_results(inclination_dict, \"Inclination\", measurement)"
         ]
      },
      {
         "attachments": {},
         "cell_type": "markdown",
         "metadata": {},
         "source": [
            "### Regne ut vinkel mellom nord og Nidarosdomen/Tyholttårnet"
         ]
      },
      {
         "cell_type": "code",
         "execution_count": 16,
         "metadata": {},
         "outputs": [
            {
               "name": "stdout",
               "output_type": "stream",
               "text": [
                  "Nidarosdomen\n",
                  "Oskar :  25.144180874053287\n",
                  "Thorb :  25.485747314333963\n",
                  "Vemund :  25.50664480664334\n",
                  "Tyholt\n",
                  "Oskar :  -80.03760091336322\n",
                  "Thorb :  -80.06043314348827\n",
                  "Vemund :  -80.0499053078677\n",
                  "Tyholt_restart\n",
                  "Oskar :  -80.03760091336322\n",
                  "Thorb :  -80.06043314348827\n",
                  "Vemund :  -80.0499053078677\n",
                  "Tyholt_flymodus\n",
                  "Oskar :  -80.03760091336322\n",
                  "Thorb :  -80.06043314348827\n",
                  "Vemund :  -80.0499053078677\n"
               ]
            }
         ],
         "source": [
            "import location\n",
            "reload(location)\n",
            "\n",
            "angle_dict = location.calculate_angle_north()\n",
            "\n",
            "for key, value in angle_dict.items():\n",
            "    print(key)\n",
            "    for k, v in value.items():\n",
            "        print(k, \": \", v)"
         ]
      },
      {
         "attachments": {},
         "cell_type": "markdown",
         "metadata": {},
         "source": [
            "## Regne ut posisjon"
         ]
      },
      {
         "cell_type": "code",
         "execution_count": 17,
         "metadata": {},
         "outputs": [],
         "source": [
            "import location\n",
            "import load_data\n",
            "reload(location)\n",
            "reload(load_data)\n",
            "\n",
            "for person in load_data.PERSONS:\n",
            "    location.get_location(person)"
         ]
      },
      {
         "cell_type": "code",
         "execution_count": 13,
         "metadata": {},
         "outputs": [],
         "source": [
            "import load_data\n",
            "import plot_data\n",
            "reload(load_data)\n",
            "reload(plot_data)\n",
            "\n",
            "loc_data_obj = load_data.load_location_data()\n",
            "# for person, measurement in loc_data_obj.data.items():\n",
            " \n",
            "    # plot_data.plot_one_to_one(\n",
            "    #     x_array = measurement.data[0],\n",
            "    #     y_array = measurement.data[1],\n",
            "    #     legend = loc_data_obj.data_fields[1],\n",
            "    #     xlabel=\"time [s]\",\n",
            "    #     ylabel=r\"Latitude\",\n",
            "    #     title=f\"{person}\",\n",
            "    #     # filepath=f\"{person}/{name}\"\n",
            "    # )\n",
            "    # plot_data.plot_one_to_one(\n",
            "    #     x_array = measurement.data[0],\n",
            "    #     y_array = measurement.data[2],\n",
            "    #     legend = loc_data_obj.data_fields[2],\n",
            "    #     xlabel=\"time [s]\",\n",
            "    #     ylabel=r\"Latitude\",\n",
            "    #     title=f\"{person}\",\n",
            "    #     # filepath=f\"{person}/{name}\"\n",
            "    # )"
         ]
      },
      {
         "attachments": {},
         "cell_type": "markdown",
         "metadata": {},
         "source": [
            "## Regne ut deklinasjon"
         ]
      },
      {
         "cell_type": "code",
         "execution_count": 4,
         "metadata": {},
         "outputs": [],
         "source": [
            "import load_data\n",
            "import magnetic_field_analysis as mfa\n",
            "import location\n",
            "reload(mfa)\n",
            "reload(load_data)\n",
            "reload(location)\n",
            "\n",
            "# Regne ut vinkler (asimuter).\n",
            "angle_dict = location.calculate_angle_north()\n",
            "\n",
            "# output ligger i ./Results/Declination/\n",
            "for measurement in angle_dict.keys():\n",
            "    mfa.get_declination(measurement=measurement, \n",
            "                        angle_input_dict=angle_dict[measurement], \n",
            "                        num_decimals=2, \n",
            "                        save_to_file=True\n",
            "                    )\n",
            "\n"
         ]
      },
      {
         "attachments": {},
         "cell_type": "markdown",
         "metadata": {},
         "source": [
            "### Samle alle vinklene i en array og beregne resultat"
         ]
      },
      {
         "cell_type": "code",
         "execution_count": 5,
         "metadata": {},
         "outputs": [
            {
               "name": "stdout",
               "output_type": "stream",
               "text": [
                  "{'Declination': {'Average': -10.53, 'Median': -5.75, 'Stdev': 13.98}, 'Inclination': {'Average': 72.15, 'Median': 70.23, 'Stdev': 5.36}}\n",
                  "{'Declination': {'Average': -6.14, 'Median': -5.36, 'Stdev': 5.39}, 'Inclination': {'Average': 71.2, 'Median': 70.12, 'Stdev': 4.82}}\n"
               ]
            }
         ],
         "source": [
            "import magnetic_field_analysis as mfa\n",
            "reload(mfa)\n",
            "\n",
            "YALLA1 = mfa.analyze_all(ta_med_vemund_nidaros=True, num_decimals=2, save_to_file=True)\n",
            "YALLA2 = mfa.analyze_all(ta_med_vemund_nidaros=False, num_decimals=2, save_to_file=True)\n",
            "print(YALLA1)\n",
            "print(YALLA2)"
         ]
      },
      {
         "attachments": {},
         "cell_type": "markdown",
         "metadata": {},
         "source": [
            "## Scatter-plot deklinasjon"
         ]
      },
      {
         "cell_type": "code",
         "execution_count": 2,
         "metadata": {},
         "outputs": [
            {
               "data": {
                  "text/plain": [
                     "<Figure size 1000x700 with 0 Axes>"
                  ]
               },
               "metadata": {},
               "output_type": "display_data"
            }
         ],
         "source": [
            "import plot_results as ar\n",
            "reload(ar)\n",
            "\n",
            "ar.scatter_plot_declination()"
         ]
      },
      {
         "attachments": {},
         "cell_type": "markdown",
         "metadata": {},
         "source": [
            "## Scatter-plot Inklinasjon"
         ]
      },
      {
         "cell_type": "code",
         "execution_count": 3,
         "metadata": {},
         "outputs": [
            {
               "data": {
                  "text/plain": [
                     "<Figure size 1000x700 with 0 Axes>"
                  ]
               },
               "metadata": {},
               "output_type": "display_data"
            }
         ],
         "source": [
            "import plot_results as ar\n",
            "reload(ar)\n",
            "\n",
            "ar.scatter_plot_inclination()"
         ]
      }
   ],
   "metadata": {
      "kernelspec": {
         "display_name": "scientific-venv",
         "language": "python",
         "name": "python3"
      },
      "language_info": {
         "codemirror_mode": {
            "name": "ipython",
            "version": 3
         },
         "file_extension": ".py",
         "mimetype": "text/x-python",
         "name": "python",
         "nbconvert_exporter": "python",
         "pygments_lexer": "ipython3",
         "version": "3.11.1"
      },
      "orig_nbformat": 4,
      "vscode": {
         "interpreter": {
            "hash": "e4f210080ac5f4a6cc2115fed17dd312d2fd73f6666689d56c969c540f3ec61a"
         }
      }
   },
   "nbformat": 4,
   "nbformat_minor": 2
}
